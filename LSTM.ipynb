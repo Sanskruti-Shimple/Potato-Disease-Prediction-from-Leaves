{
 "cells": [
  {
   "cell_type": "code",
   "execution_count": 1,
   "metadata": {},
   "outputs": [],
   "source": [
    "import tensorflow as tf\n",
    "from tensorflow.keras import models, layers\n",
    "import matplotlib.pyplot as plt"
   ]
  },
  {
   "cell_type": "code",
   "execution_count": 2,
   "metadata": {},
   "outputs": [],
   "source": [
    "# Define constants\n",
    "BATCH_SIZE = 32\n",
    "IMAGE_SIZE = 256\n",
    "CHANNELS = 3\n",
    "EPOCHS = 50"
   ]
  },
  {
   "cell_type": "code",
   "execution_count": 3,
   "metadata": {},
   "outputs": [
    {
     "name": "stdout",
     "output_type": "stream",
     "text": [
      "Found 2152 files belonging to 3 classes.\n"
     ]
    }
   ],
   "source": [
    "# Load the dataset\n",
    "dataset = tf.keras.preprocessing.image_dataset_from_directory(\n",
    "    \"PlantVillage\",\n",
    "    seed=123,\n",
    "    shuffle=True,\n",
    "    image_size=(IMAGE_SIZE, IMAGE_SIZE),\n",
    "    batch_size=BATCH_SIZE\n",
    ")"
   ]
  },
  {
   "cell_type": "code",
   "execution_count": 4,
   "metadata": {},
   "outputs": [],
   "source": [
    "# Get the class names\n",
    "class_names = dataset.class_names"
   ]
  },
  {
   "cell_type": "code",
   "execution_count": 5,
   "metadata": {},
   "outputs": [],
   "source": [
    "# Split the dataset into train, validation, and test sets\n",
    "train_ds = dataset.take(54)\n",
    "val_ds = dataset.skip(54).take(6)\n",
    "test_ds = dataset.skip(60)\n"
   ]
  },
  {
   "cell_type": "code",
   "execution_count": 6,
   "metadata": {},
   "outputs": [],
   "source": [
    "# Data augmentation and preprocessing\n",
    "resize_and_rescale = tf.keras.Sequential([\n",
    "    layers.experimental.preprocessing.Resizing(IMAGE_SIZE, IMAGE_SIZE),\n",
    "    layers.experimental.preprocessing.Rescaling(1./255),\n",
    "])\n",
    "\n",
    "data_augmentation = tf.keras.Sequential([\n",
    "    layers.experimental.preprocessing.RandomFlip(\"horizontal_and_vertical\"),\n",
    "    layers.experimental.preprocessing.RandomRotation(0.2),\n",
    "])\n",
    "\n",
    "train_ds = train_ds.map(\n",
    "    lambda x, y: (data_augmentation(x, training=True), y)\n",
    ")"
   ]
  },
  {
   "cell_type": "code",
   "execution_count": 7,
   "metadata": {},
   "outputs": [],
   "source": [
    "# Define the CNN model\n",
    "cnn_model = models.Sequential([\n",
    "    resize_and_rescale,\n",
    "    layers.Conv2D(32, kernel_size=(3, 3), activation='relu', input_shape=(IMAGE_SIZE, IMAGE_SIZE, CHANNELS)),\n",
    "    layers.MaxPooling2D((2, 2)),\n",
    "    layers.Flatten(),\n",
    "    layers.Dense(128, activation='relu'),\n",
    "    layers.Dense(len(class_names), activation='softmax')\n",
    "])"
   ]
  },
  {
   "cell_type": "code",
   "execution_count": 8,
   "metadata": {},
   "outputs": [],
   "source": [
    "# Define the ANN model\n",
    "ann_model = models.Sequential([\n",
    "    resize_and_rescale,\n",
    "    layers.Flatten(input_shape=(IMAGE_SIZE, IMAGE_SIZE, CHANNELS)),\n",
    "    layers.Dense(128, activation='relu'),\n",
    "    layers.Dense(len(class_names), activation='softmax')\n",
    "])"
   ]
  },
  {
   "cell_type": "code",
   "execution_count": 9,
   "metadata": {},
   "outputs": [],
   "source": [
    "# Compile the CNN and ANN models\n",
    "cnn_model.compile(optimizer='adam', loss='sparse_categorical_crossentropy', metrics=['accuracy'])\n",
    "ann_model.compile(optimizer='adam', loss='sparse_categorical_crossentropy', metrics=['accuracy'])\n"
   ]
  },
  {
   "cell_type": "code",
   "execution_count": 10,
   "metadata": {},
   "outputs": [
    {
     "name": "stdout",
     "output_type": "stream",
     "text": [
      "Epoch 1/50\n",
      "54/54 [==============================] - 84s 1s/step - loss: 9.3981 - accuracy: 0.6256 - val_loss: 0.6356 - val_accuracy: 0.7917\n",
      "Epoch 2/50\n",
      "54/54 [==============================] - 79s 1s/step - loss: 0.3241 - accuracy: 0.8767 - val_loss: 0.3138 - val_accuracy: 0.8438\n",
      "Epoch 3/50\n",
      "54/54 [==============================] - 78s 1s/step - loss: 0.2505 - accuracy: 0.8964 - val_loss: 0.2613 - val_accuracy: 0.9115\n",
      "Epoch 4/50\n",
      "54/54 [==============================] - 76s 1s/step - loss: 0.2710 - accuracy: 0.8981 - val_loss: 0.3267 - val_accuracy: 0.8958\n",
      "Epoch 5/50\n",
      "54/54 [==============================] - 76s 1s/step - loss: 0.2130 - accuracy: 0.9167 - val_loss: 0.4273 - val_accuracy: 0.8854\n",
      "Epoch 6/50\n",
      "54/54 [==============================] - 76s 1s/step - loss: 0.2069 - accuracy: 0.9207 - val_loss: 0.3447 - val_accuracy: 0.8646\n",
      "Epoch 7/50\n",
      "54/54 [==============================] - 75s 1s/step - loss: 0.2012 - accuracy: 0.9207 - val_loss: 0.8027 - val_accuracy: 0.7083\n",
      "Epoch 8/50\n",
      "54/54 [==============================] - 68s 1s/step - loss: 0.1549 - accuracy: 0.9439 - val_loss: 0.4055 - val_accuracy: 0.8646\n",
      "Epoch 9/50\n",
      "54/54 [==============================] - 76s 1s/step - loss: 0.1503 - accuracy: 0.9433 - val_loss: 0.5811 - val_accuracy: 0.8594\n",
      "Epoch 10/50\n",
      "54/54 [==============================] - 76s 1s/step - loss: 0.1328 - accuracy: 0.9456 - val_loss: 0.3414 - val_accuracy: 0.8854\n",
      "Epoch 11/50\n",
      "54/54 [==============================] - 76s 1s/step - loss: 0.1941 - accuracy: 0.9236 - val_loss: 0.2253 - val_accuracy: 0.9323\n",
      "Epoch 12/50\n",
      "54/54 [==============================] - 77s 1s/step - loss: 0.1716 - accuracy: 0.9398 - val_loss: 1.1817 - val_accuracy: 0.7083\n",
      "Epoch 13/50\n",
      "54/54 [==============================] - 75s 1s/step - loss: 0.1288 - accuracy: 0.9497 - val_loss: 1.2215 - val_accuracy: 0.7188\n",
      "Epoch 14/50\n",
      "54/54 [==============================] - 55s 1s/step - loss: 0.1573 - accuracy: 0.9363 - val_loss: 0.3369 - val_accuracy: 0.8750\n",
      "Epoch 15/50\n",
      "54/54 [==============================] - 57s 1s/step - loss: 0.1271 - accuracy: 0.9479 - val_loss: 0.6017 - val_accuracy: 0.8542\n",
      "Epoch 16/50\n",
      "54/54 [==============================] - 57s 1s/step - loss: 0.1142 - accuracy: 0.9554 - val_loss: 0.8170 - val_accuracy: 0.8021\n",
      "Epoch 17/50\n",
      "54/54 [==============================] - 55s 1s/step - loss: 0.1067 - accuracy: 0.9612 - val_loss: 0.3001 - val_accuracy: 0.8958\n",
      "Epoch 18/50\n",
      "54/54 [==============================] - 55s 1s/step - loss: 0.1390 - accuracy: 0.9491 - val_loss: 0.3941 - val_accuracy: 0.8750\n",
      "Epoch 19/50\n",
      "54/54 [==============================] - 54s 989ms/step - loss: 0.1158 - accuracy: 0.9549 - val_loss: 0.4582 - val_accuracy: 0.8698\n",
      "Epoch 20/50\n",
      "54/54 [==============================] - 55s 1s/step - loss: 0.1502 - accuracy: 0.9468 - val_loss: 0.1570 - val_accuracy: 0.9375\n",
      "Epoch 21/50\n",
      "54/54 [==============================] - 54s 997ms/step - loss: 0.1559 - accuracy: 0.9444 - val_loss: 0.6275 - val_accuracy: 0.8073\n",
      "Epoch 22/50\n",
      "54/54 [==============================] - 53s 979ms/step - loss: 0.1222 - accuracy: 0.9554 - val_loss: 0.3421 - val_accuracy: 0.8802\n",
      "Epoch 23/50\n",
      "54/54 [==============================] - 54s 998ms/step - loss: 0.1274 - accuracy: 0.9491 - val_loss: 0.4004 - val_accuracy: 0.8750\n",
      "Epoch 24/50\n",
      "54/54 [==============================] - 54s 990ms/step - loss: 0.1170 - accuracy: 0.9589 - val_loss: 0.7765 - val_accuracy: 0.8021\n",
      "Epoch 25/50\n",
      "54/54 [==============================] - 53s 986ms/step - loss: 0.1099 - accuracy: 0.9566 - val_loss: 0.4561 - val_accuracy: 0.8802\n",
      "Epoch 26/50\n",
      "54/54 [==============================] - 54s 989ms/step - loss: 0.1363 - accuracy: 0.9566 - val_loss: 0.6252 - val_accuracy: 0.8125\n",
      "Epoch 27/50\n",
      "54/54 [==============================] - 55s 1s/step - loss: 0.1404 - accuracy: 0.9479 - val_loss: 0.6424 - val_accuracy: 0.7969\n",
      "Epoch 28/50\n",
      "54/54 [==============================] - 55s 1s/step - loss: 0.1055 - accuracy: 0.9601 - val_loss: 0.5343 - val_accuracy: 0.8229\n",
      "Epoch 29/50\n",
      "54/54 [==============================] - 55s 1s/step - loss: 0.0957 - accuracy: 0.9641 - val_loss: 0.3856 - val_accuracy: 0.8750\n",
      "Epoch 30/50\n",
      "54/54 [==============================] - 54s 997ms/step - loss: 0.1001 - accuracy: 0.9606 - val_loss: 0.2048 - val_accuracy: 0.9167\n",
      "Epoch 31/50\n",
      "54/54 [==============================] - 57s 1s/step - loss: 0.0859 - accuracy: 0.9676 - val_loss: 1.1014 - val_accuracy: 0.7500\n",
      "Epoch 32/50\n",
      "54/54 [==============================] - 57s 1s/step - loss: 0.1014 - accuracy: 0.9630 - val_loss: 0.1859 - val_accuracy: 0.9271\n",
      "Epoch 33/50\n",
      "54/54 [==============================] - 56s 1s/step - loss: 0.0762 - accuracy: 0.9722 - val_loss: 0.6778 - val_accuracy: 0.7917\n",
      "Epoch 34/50\n",
      "54/54 [==============================] - 58s 1s/step - loss: 0.0654 - accuracy: 0.9774 - val_loss: 0.1152 - val_accuracy: 0.9688\n",
      "Epoch 35/50\n",
      "54/54 [==============================] - 60s 1s/step - loss: 0.0938 - accuracy: 0.9659 - val_loss: 0.1563 - val_accuracy: 0.9323\n",
      "Epoch 36/50\n",
      "54/54 [==============================] - 61s 1s/step - loss: 0.1337 - accuracy: 0.9514 - val_loss: 0.3784 - val_accuracy: 0.8594\n",
      "Epoch 37/50\n",
      "54/54 [==============================] - 61s 1s/step - loss: 0.1192 - accuracy: 0.9531 - val_loss: 0.3303 - val_accuracy: 0.8958\n",
      "Epoch 38/50\n",
      "54/54 [==============================] - 62s 1s/step - loss: 0.0843 - accuracy: 0.9699 - val_loss: 0.3485 - val_accuracy: 0.8698\n",
      "Epoch 39/50\n",
      "54/54 [==============================] - 59s 1s/step - loss: 0.0803 - accuracy: 0.9705 - val_loss: 0.2664 - val_accuracy: 0.9115\n",
      "Epoch 40/50\n",
      "54/54 [==============================] - 58s 1s/step - loss: 0.1066 - accuracy: 0.9618 - val_loss: 0.4752 - val_accuracy: 0.8385\n",
      "Epoch 41/50\n",
      "54/54 [==============================] - 60s 1s/step - loss: 0.0610 - accuracy: 0.9797 - val_loss: 0.6220 - val_accuracy: 0.8385\n",
      "Epoch 42/50\n",
      "54/54 [==============================] - 57s 1s/step - loss: 0.0951 - accuracy: 0.9606 - val_loss: 1.3957 - val_accuracy: 0.6823\n",
      "Epoch 43/50\n",
      "54/54 [==============================] - 56s 1s/step - loss: 0.1194 - accuracy: 0.9543 - val_loss: 0.1734 - val_accuracy: 0.9375\n",
      "Epoch 44/50\n",
      "54/54 [==============================] - 57s 1s/step - loss: 0.0706 - accuracy: 0.9734 - val_loss: 0.5171 - val_accuracy: 0.8490\n",
      "Epoch 45/50\n",
      "54/54 [==============================] - 56s 1s/step - loss: 0.0728 - accuracy: 0.9734 - val_loss: 0.5380 - val_accuracy: 0.8073\n",
      "Epoch 46/50\n",
      "54/54 [==============================] - 56s 1s/step - loss: 0.0641 - accuracy: 0.9769 - val_loss: 0.2906 - val_accuracy: 0.9219\n",
      "Epoch 47/50\n",
      "54/54 [==============================] - 57s 1s/step - loss: 0.0974 - accuracy: 0.9653 - val_loss: 0.2749 - val_accuracy: 0.9219\n",
      "Epoch 48/50\n",
      "54/54 [==============================] - 57s 1s/step - loss: 0.0750 - accuracy: 0.9740 - val_loss: 0.2534 - val_accuracy: 0.9010\n",
      "Epoch 49/50\n",
      "54/54 [==============================] - 56s 1s/step - loss: 0.0712 - accuracy: 0.9693 - val_loss: 0.2718 - val_accuracy: 0.8906\n",
      "Epoch 50/50\n",
      "54/54 [==============================] - 56s 1s/step - loss: 0.0614 - accuracy: 0.9792 - val_loss: 0.2229 - val_accuracy: 0.9219\n",
      "Epoch 1/50\n",
      "54/54 [==============================] - 25s 439ms/step - loss: 40.7653 - accuracy: 0.5654 - val_loss: 1.2376 - val_accuracy: 0.8281\n",
      "Epoch 2/50\n",
      "54/54 [==============================] - 24s 439ms/step - loss: 2.3403 - accuracy: 0.7182 - val_loss: 4.7554 - val_accuracy: 0.5625\n",
      "Epoch 3/50\n",
      "54/54 [==============================] - 24s 442ms/step - loss: 3.5541 - accuracy: 0.6644 - val_loss: 0.9441 - val_accuracy: 0.7969\n",
      "Epoch 4/50\n",
      "54/54 [==============================] - 24s 441ms/step - loss: 2.2421 - accuracy: 0.7025 - val_loss: 3.3438 - val_accuracy: 0.5833\n",
      "Epoch 5/50\n",
      "54/54 [==============================] - 25s 454ms/step - loss: 1.7384 - accuracy: 0.7095 - val_loss: 2.9569 - val_accuracy: 0.6562\n",
      "Epoch 6/50\n",
      "54/54 [==============================] - 25s 453ms/step - loss: 2.2435 - accuracy: 0.6933 - val_loss: 3.9234 - val_accuracy: 0.5417\n",
      "Epoch 7/50\n",
      "54/54 [==============================] - 25s 453ms/step - loss: 2.1012 - accuracy: 0.7193 - val_loss: 2.9568 - val_accuracy: 0.5052\n",
      "Epoch 8/50\n",
      "54/54 [==============================] - 24s 450ms/step - loss: 1.1728 - accuracy: 0.7656 - val_loss: 0.8418 - val_accuracy: 0.8073\n",
      "Epoch 9/50\n",
      "54/54 [==============================] - 24s 449ms/step - loss: 1.2151 - accuracy: 0.7517 - val_loss: 0.4065 - val_accuracy: 0.8750\n",
      "Epoch 10/50\n",
      "54/54 [==============================] - 24s 449ms/step - loss: 0.9557 - accuracy: 0.7575 - val_loss: 1.5421 - val_accuracy: 0.6198\n",
      "Epoch 11/50\n",
      "54/54 [==============================] - 24s 443ms/step - loss: 1.2044 - accuracy: 0.7575 - val_loss: 0.5942 - val_accuracy: 0.8594\n",
      "Epoch 12/50\n",
      "54/54 [==============================] - 24s 437ms/step - loss: 1.1763 - accuracy: 0.7575 - val_loss: 1.5122 - val_accuracy: 0.7500\n",
      "Epoch 13/50\n",
      "54/54 [==============================] - 24s 440ms/step - loss: 1.0009 - accuracy: 0.7488 - val_loss: 1.3494 - val_accuracy: 0.7292\n",
      "Epoch 14/50\n",
      "54/54 [==============================] - 24s 440ms/step - loss: 1.1682 - accuracy: 0.7517 - val_loss: 0.9538 - val_accuracy: 0.7344\n",
      "Epoch 15/50\n",
      "54/54 [==============================] - 24s 439ms/step - loss: 1.6390 - accuracy: 0.6863 - val_loss: 1.9174 - val_accuracy: 0.6406\n",
      "Epoch 16/50\n",
      "54/54 [==============================] - 24s 440ms/step - loss: 0.7376 - accuracy: 0.7899 - val_loss: 0.3627 - val_accuracy: 0.8594\n",
      "Epoch 17/50\n",
      "54/54 [==============================] - 24s 441ms/step - loss: 0.6592 - accuracy: 0.7784 - val_loss: 0.7722 - val_accuracy: 0.7188\n",
      "Epoch 18/50\n",
      "54/54 [==============================] - 24s 445ms/step - loss: 0.5439 - accuracy: 0.8148 - val_loss: 0.2832 - val_accuracy: 0.8646\n",
      "Epoch 19/50\n",
      "54/54 [==============================] - 24s 448ms/step - loss: 2.2977 - accuracy: 0.7431 - val_loss: 0.3193 - val_accuracy: 0.8698\n",
      "Epoch 20/50\n",
      "54/54 [==============================] - 24s 446ms/step - loss: 0.6362 - accuracy: 0.7633 - val_loss: 0.4233 - val_accuracy: 0.8333\n",
      "Epoch 21/50\n",
      "54/54 [==============================] - 24s 446ms/step - loss: 0.4508 - accuracy: 0.8241 - val_loss: 0.3133 - val_accuracy: 0.8542\n",
      "Epoch 22/50\n",
      "54/54 [==============================] - 24s 450ms/step - loss: 0.3966 - accuracy: 0.8333 - val_loss: 0.2866 - val_accuracy: 0.8802\n",
      "Epoch 23/50\n",
      "54/54 [==============================] - 24s 449ms/step - loss: 0.3821 - accuracy: 0.8333 - val_loss: 0.2782 - val_accuracy: 0.8698\n",
      "Epoch 24/50\n",
      "54/54 [==============================] - 24s 447ms/step - loss: 0.3725 - accuracy: 0.8397 - val_loss: 0.2900 - val_accuracy: 0.8854\n",
      "Epoch 25/50\n",
      "54/54 [==============================] - 24s 449ms/step - loss: 0.3759 - accuracy: 0.8409 - val_loss: 0.2653 - val_accuracy: 0.8906\n",
      "Epoch 26/50\n",
      "54/54 [==============================] - 24s 449ms/step - loss: 0.3563 - accuracy: 0.8426 - val_loss: 0.3689 - val_accuracy: 0.7917\n",
      "Epoch 27/50\n",
      "54/54 [==============================] - 24s 446ms/step - loss: 0.4047 - accuracy: 0.8275 - val_loss: 0.3081 - val_accuracy: 0.8646\n",
      "Epoch 28/50\n",
      "54/54 [==============================] - 24s 446ms/step - loss: 0.5243 - accuracy: 0.7789 - val_loss: 0.2958 - val_accuracy: 0.8698\n",
      "Epoch 29/50\n",
      "54/54 [==============================] - 24s 439ms/step - loss: 0.3488 - accuracy: 0.8409 - val_loss: 0.4028 - val_accuracy: 0.8021\n",
      "Epoch 30/50\n",
      "54/54 [==============================] - 24s 438ms/step - loss: 0.3613 - accuracy: 0.8333 - val_loss: 0.4382 - val_accuracy: 0.8229\n",
      "Epoch 31/50\n",
      "54/54 [==============================] - 24s 441ms/step - loss: 0.5440 - accuracy: 0.7760 - val_loss: 0.3032 - val_accuracy: 0.8281\n",
      "Epoch 32/50\n",
      "54/54 [==============================] - 24s 440ms/step - loss: 1.1290 - accuracy: 0.8125 - val_loss: 0.3526 - val_accuracy: 0.8698\n",
      "Epoch 33/50\n",
      "54/54 [==============================] - 24s 442ms/step - loss: 0.3754 - accuracy: 0.8432 - val_loss: 0.3918 - val_accuracy: 0.8333\n",
      "Epoch 34/50\n",
      "54/54 [==============================] - 24s 444ms/step - loss: 0.4312 - accuracy: 0.8189 - val_loss: 0.4290 - val_accuracy: 0.8333\n",
      "Epoch 35/50\n",
      "54/54 [==============================] - 24s 441ms/step - loss: 0.3735 - accuracy: 0.8426 - val_loss: 0.3846 - val_accuracy: 0.8594\n",
      "Epoch 36/50\n",
      "54/54 [==============================] - 24s 445ms/step - loss: 0.3250 - accuracy: 0.8681 - val_loss: 0.3374 - val_accuracy: 0.8750\n",
      "Epoch 37/50\n",
      "54/54 [==============================] - 24s 448ms/step - loss: 0.3678 - accuracy: 0.8472 - val_loss: 0.6121 - val_accuracy: 0.7604\n",
      "Epoch 38/50\n",
      "54/54 [==============================] - 24s 446ms/step - loss: 0.4492 - accuracy: 0.8079 - val_loss: 0.3892 - val_accuracy: 0.8281\n",
      "Epoch 39/50\n",
      "54/54 [==============================] - 24s 446ms/step - loss: 0.3177 - accuracy: 0.8686 - val_loss: 0.2603 - val_accuracy: 0.8854\n",
      "Epoch 40/50\n",
      "54/54 [==============================] - 24s 449ms/step - loss: 0.3343 - accuracy: 0.8472 - val_loss: 0.2572 - val_accuracy: 0.9010\n",
      "Epoch 41/50\n",
      "54/54 [==============================] - 24s 447ms/step - loss: 0.3658 - accuracy: 0.8391 - val_loss: 0.2086 - val_accuracy: 0.9427\n",
      "Epoch 42/50\n",
      "54/54 [==============================] - 24s 447ms/step - loss: 0.3132 - accuracy: 0.8652 - val_loss: 0.2905 - val_accuracy: 0.8698\n",
      "Epoch 43/50\n",
      "54/54 [==============================] - 24s 447ms/step - loss: 0.3176 - accuracy: 0.8588 - val_loss: 0.2758 - val_accuracy: 0.8906\n",
      "Epoch 44/50\n",
      "54/54 [==============================] - 24s 448ms/step - loss: 0.3359 - accuracy: 0.8623 - val_loss: 0.3133 - val_accuracy: 0.8594\n",
      "Epoch 45/50\n",
      "54/54 [==============================] - 24s 449ms/step - loss: 0.3251 - accuracy: 0.8652 - val_loss: 0.2569 - val_accuracy: 0.8802\n",
      "Epoch 46/50\n",
      "54/54 [==============================] - 24s 446ms/step - loss: 0.3320 - accuracy: 0.8623 - val_loss: 0.2906 - val_accuracy: 0.8854\n",
      "Epoch 47/50\n",
      "54/54 [==============================] - 23s 432ms/step - loss: 0.2976 - accuracy: 0.8738 - val_loss: 0.2404 - val_accuracy: 0.9062\n",
      "Epoch 48/50\n",
      "54/54 [==============================] - 23s 421ms/step - loss: 0.3664 - accuracy: 0.8536 - val_loss: 0.4139 - val_accuracy: 0.8177\n",
      "Epoch 49/50\n",
      "54/54 [==============================] - 23s 424ms/step - loss: 0.3518 - accuracy: 0.8461 - val_loss: 0.3482 - val_accuracy: 0.8542\n",
      "Epoch 50/50\n",
      "54/54 [==============================] - 23s 416ms/step - loss: 0.2867 - accuracy: 0.8825 - val_loss: 0.1844 - val_accuracy: 0.9375\n"
     ]
    }
   ],
   "source": [
    "# Train the CNN and ANN models\n",
    "cnn_history = cnn_model.fit(train_ds, validation_data=val_ds, epochs=EPOCHS, verbose=1)\n",
    "ann_history = ann_model.fit(train_ds, validation_data=val_ds, epochs=EPOCHS, verbose=1)\n"
   ]
  },
  {
   "cell_type": "code",
   "execution_count": 11,
   "metadata": {},
   "outputs": [],
   "source": [
    "# Create a list to store the trained models\n",
    "models = [cnn_model, ann_model]\n"
   ]
  },
  {
   "cell_type": "code",
   "execution_count": 12,
   "metadata": {},
   "outputs": [],
   "source": [
    "# Define a function to combine the predictions of the individual models\n",
    "def ensemble_predict(models, image):\n",
    "  # Get the predictions of each model.\n",
    "  predictions = []\n",
    "  for model in models:\n",
    "    prediction = model.predict(image)\n",
    "    predictions.append(prediction)\n",
    "\n",
    "  # Combine the predictions using a weighted averaging method.\n",
    "  combined_prediction = tf.reduce_mean(predictions, axis=0)\n",
    "\n",
    "  # Return the combined prediction.\n",
    "  return combined_prediction"
   ]
  },
  {
   "cell_type": "code",
   "execution_count": 13,
   "metadata": {},
   "outputs": [
    {
     "name": "stdout",
     "output_type": "stream",
     "text": [
      "8/8 [==============================] - 2s 121ms/step\n",
      "8/8 [==============================] - 1s 22ms/step\n"
     ]
    }
   ],
   "source": [
    "# Make predictions on the test set using the ensemble model\n",
    "test_ds = test_ds.map(resize_and_rescale)\n",
    "test_predictions = ensemble_predict(models, test_ds)"
   ]
  },
  {
   "cell_type": "code",
   "execution_count": 14,
   "metadata": {},
   "outputs": [],
   "source": [
    "# Get the predicted classes\n",
    "test_predicted_classes = tf.argmax(test_predictions, axis=1)"
   ]
  },
  {
   "cell_type": "code",
   "execution_count": null,
   "metadata": {},
   "outputs": [],
   "source": []
  }
 ],
 "metadata": {
  "kernelspec": {
   "display_name": "Python 3",
   "language": "python",
   "name": "python3"
  },
  "language_info": {
   "codemirror_mode": {
    "name": "ipython",
    "version": 3
   },
   "file_extension": ".py",
   "mimetype": "text/x-python",
   "name": "python",
   "nbconvert_exporter": "python",
   "pygments_lexer": "ipython3",
   "version": "3.11.6"
  }
 },
 "nbformat": 4,
 "nbformat_minor": 2
}
